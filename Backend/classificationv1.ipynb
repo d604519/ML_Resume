{
 "cells": [
  {
   "cell_type": "markdown",
   "metadata": {},
   "source": [
    "# Setup and Preprocessing"
   ]
  },
  {
   "cell_type": "code",
   "execution_count": 11,
   "metadata": {},
   "outputs": [
    {
     "name": "stderr",
     "output_type": "stream",
     "text": [
      "Intel(R) Extension for Scikit-learn* enabled (https://github.com/intel/scikit-learn-intelex)\n",
      "[nltk_data] Downloading package wordnet to\n",
      "[nltk_data]     C:\\Users\\YongLe\\AppData\\Roaming\\nltk_data...\n",
      "[nltk_data]   Package wordnet is already up-to-date!\n",
      "[nltk_data] Downloading package omw-1.4 to\n",
      "[nltk_data]     C:\\Users\\YongLe\\AppData\\Roaming\\nltk_data...\n",
      "[nltk_data]   Package omw-1.4 is already up-to-date!\n"
     ]
    }
   ],
   "source": [
    "# Export requirements.txt for only the packages used in this notebook\n",
    "# pip install pipreqs\n",
    "# !pipreqs --force .\n",
    "from sklearnex import patch_sklearn\n",
    "patch_sklearn()\n",
    "import pandas as pd, glob, os, sys, win32com.client, pythoncom, numpy as np, re, seaborn as sns, matplotlib.pyplot as plt, warnings, time, pickle\n",
    "from filesplit.split import Split\n",
    "from filesplit.merge import Merge\n",
    "\n",
    "from nltk.stem import PorterStemmer\n",
    "from nltk.tokenize import sent_tokenize, word_tokenize\n",
    "from nltk.stem.wordnet import WordNetLemmatizer\n",
    "import nltk\n",
    "nltk.download('wordnet')\n",
    "nltk.download('omw-1.4')\n",
    "\n",
    "from sklearn import set_config\n",
    "from sklearn.pipeline import Pipeline\n",
    "from sklearn.preprocessing import MinMaxScaler, StandardScaler\n",
    "from sklearn.experimental import enable_halving_search_cv\n",
    "from sklearn.model_selection import train_test_split, HalvingRandomSearchCV\n",
    "from sklearn.feature_extraction.text import TfidfVectorizer\n",
    "from sklearn.metrics import accuracy_score, precision_score, recall_score, f1_score, roc_auc_score, confusion_matrix, classification_report\n",
    "from sklearn.naive_bayes import MultinomialNB\n",
    "from sklearn.linear_model import LogisticRegression, SGDClassifier, RidgeClassifier\n",
    "from sklearn.tree import DecisionTreeClassifier\n",
    "from sklearn.ensemble import RandomForestClassifier, ExtraTreesClassifier, StackingClassifier, VotingClassifier, BaggingClassifier\n",
    "from sklearn.neighbors import KNeighborsClassifier\n",
    "from sklearn.svm import SVC\n",
    "import xgboost as xgb\n",
    "from lightgbm import LGBMClassifier\n",
    "\n",
    "warnings.filterwarnings(\"ignore\")\n",
    "set_config(display='diagram')\n",
    "# dir_path = os.path.dirname(os.path.realpath(sys.argv[0])) + \"\\\\\"\n",
    "dir_path = os.getcwd() + \"\\\\\"\n",
    "\n",
    "def set_options(xl, option):\n",
    "    try:\n",
    "        xl.Visible = option\n",
    "        xl.ScreenUpdating = option\n",
    "        xl.DisplayAlerts = option\n",
    "        xl.EnableEvents = option\n",
    "    except: \n",
    "        pass\n",
    "\n",
    "def convert(file):\n",
    "    file = os.path.splitext(file)[0]\n",
    "    print('Converting {}...'.format(file))\n",
    "    xl=win32com.client.Dispatch(\"Excel.Application\",pythoncom.CoInitialize())\n",
    "    set_options(xl, False)\n",
    "    \n",
    "    # check if file with .csv exists\n",
    "    if not os.path.isfile(dir_path + file + '.csv'):\n",
    "        try:\n",
    "            wb = xl.Workbooks.Open(Filename= dir_path + file + '.xlsx',ReadOnly=1)\n",
    "        except:\n",
    "            wb = xl.Workbooks.Open(Filename= dir_path + file + '.xlsb',ReadOnly=1)  \n",
    "        xl.ActiveWorkbook == wb\n",
    "        \n",
    "        #6 means csv\n",
    "        wb.SaveAs(Filename= dir_path + file + '.csv', FileFormat='6') \n",
    "        set_options(xl, True)\n",
    "        wb.Close(True)\n",
    "        xl.Application.Quit()\n",
    "        wb=xl=None\n",
    "    \n",
    "    df = pd.read_csv(dir_path + file + '.csv', low_memory = False, encoding='ISO-8859-1')\n",
    "    df.to_pickle(dir_path + file + '.pkl')\n",
    "    \n",
    "    return file + '.pkl'\n",
    "\n",
    "def read(i):\n",
    "    try: \n",
    "        pkl = glob.glob(os.path.join('*{0}*.pkl'.format(i)))[0]\n",
    "    except: \n",
    "        pkl = convert(glob.glob(os.path.join('*{0}*'.format(i)))[0])\n",
    "    df = pd.read_pickle(dir_path + pkl)\n",
    "    return df\n",
    "\n",
    "# Custom function to store models\n",
    "def pickle_split(filename, model):\n",
    "    file = filename + '.mgz'\n",
    "    pickle.dump(model, open(file, 'wb'))\n",
    "\n",
    "    # Check file size\n",
    "    print('File Size: {:.2f} {}'.format(os.path.getsize(file)/1000000, 'MB'))\n",
    "\n",
    "    # Split stack.mgz into 99 MB parts using filesplit\n",
    "    split = Split(inputfile=file, outputdir='.')\n",
    "    split.manfilename = filename\n",
    "    split.bysize(size=100000000)\n",
    "    os.remove(file)\n",
    "\n",
    "def merge_pickle(filename):\n",
    "    # Merge the files back together\n",
    "    filepath = filename + '.mgz'\n",
    "    merge = Merge(inputdir='.', outputdir='.', outputfilename=filepath)\n",
    "    merge.manfilename = filename\n",
    "    merge.merge()\n",
    "\n",
    "    # Load the model\n",
    "    file = pickle.load(open(filepath, 'rb'))\n",
    "    os.remove(filepath)\n",
    "    return file"
   ]
  },
  {
   "cell_type": "code",
   "execution_count": 12,
   "metadata": {},
   "outputs": [
    {
     "data": {
      "text/html": [
       "<div>\n",
       "<style scoped>\n",
       "    .dataframe tbody tr th:only-of-type {\n",
       "        vertical-align: middle;\n",
       "    }\n",
       "\n",
       "    .dataframe tbody tr th {\n",
       "        vertical-align: top;\n",
       "    }\n",
       "\n",
       "    .dataframe thead th {\n",
       "        text-align: right;\n",
       "    }\n",
       "</style>\n",
       "<table border=\"1\" class=\"dataframe\">\n",
       "  <thead>\n",
       "    <tr style=\"text-align: right;\">\n",
       "      <th></th>\n",
       "      <th>ID</th>\n",
       "      <th>Resume_str</th>\n",
       "      <th>Resume_html</th>\n",
       "      <th>Category</th>\n",
       "    </tr>\n",
       "  </thead>\n",
       "  <tbody>\n",
       "    <tr>\n",
       "      <th>0</th>\n",
       "      <td>16852973</td>\n",
       "      <td>HR ADMINISTRATOR/MARKETING ASSOCIATE\\...</td>\n",
       "      <td>&lt;div class=\"fontsize fontface vmargins hmargin...</td>\n",
       "      <td>HR</td>\n",
       "    </tr>\n",
       "    <tr>\n",
       "      <th>1</th>\n",
       "      <td>22323967</td>\n",
       "      <td>HR SPECIALIST, US HR OPERATIONS      ...</td>\n",
       "      <td>&lt;div class=\"fontsize fontface vmargins hmargin...</td>\n",
       "      <td>HR</td>\n",
       "    </tr>\n",
       "    <tr>\n",
       "      <th>2</th>\n",
       "      <td>33176873</td>\n",
       "      <td>HR DIRECTOR       Summary      Over 2...</td>\n",
       "      <td>&lt;div class=\"fontsize fontface vmargins hmargin...</td>\n",
       "      <td>HR</td>\n",
       "    </tr>\n",
       "    <tr>\n",
       "      <th>3</th>\n",
       "      <td>27018550</td>\n",
       "      <td>HR SPECIALIST       Summary    Dedica...</td>\n",
       "      <td>&lt;div class=\"fontsize fontface vmargins hmargin...</td>\n",
       "      <td>HR</td>\n",
       "    </tr>\n",
       "    <tr>\n",
       "      <th>4</th>\n",
       "      <td>17812897</td>\n",
       "      <td>HR MANAGER         Skill Highlights  ...</td>\n",
       "      <td>&lt;div class=\"fontsize fontface vmargins hmargin...</td>\n",
       "      <td>HR</td>\n",
       "    </tr>\n",
       "  </tbody>\n",
       "</table>\n",
       "</div>"
      ],
      "text/plain": [
       "         ID                                         Resume_str  \\\n",
       "0  16852973           HR ADMINISTRATOR/MARKETING ASSOCIATE\\...   \n",
       "1  22323967           HR SPECIALIST, US HR OPERATIONS      ...   \n",
       "2  33176873           HR DIRECTOR       Summary      Over 2...   \n",
       "3  27018550           HR SPECIALIST       Summary    Dedica...   \n",
       "4  17812897           HR MANAGER         Skill Highlights  ...   \n",
       "\n",
       "                                         Resume_html Category  \n",
       "0  <div class=\"fontsize fontface vmargins hmargin...       HR  \n",
       "1  <div class=\"fontsize fontface vmargins hmargin...       HR  \n",
       "2  <div class=\"fontsize fontface vmargins hmargin...       HR  \n",
       "3  <div class=\"fontsize fontface vmargins hmargin...       HR  \n",
       "4  <div class=\"fontsize fontface vmargins hmargin...       HR  "
      ]
     },
     "execution_count": 12,
     "metadata": {},
     "output_type": "execute_result"
    }
   ],
   "source": [
    "# Pickle dataset, delete resume.pkl if you are facing issues\n",
    "i = \"Resume\"\n",
    "df = read(i)\n",
    "\n",
    "df.head()"
   ]
  },
  {
   "cell_type": "code",
   "execution_count": 13,
   "metadata": {},
   "outputs": [
    {
     "data": {
      "text/html": [
       "<div>\n",
       "<style scoped>\n",
       "    .dataframe tbody tr th:only-of-type {\n",
       "        vertical-align: middle;\n",
       "    }\n",
       "\n",
       "    .dataframe tbody tr th {\n",
       "        vertical-align: top;\n",
       "    }\n",
       "\n",
       "    .dataframe thead th {\n",
       "        text-align: right;\n",
       "    }\n",
       "</style>\n",
       "<table border=\"1\" class=\"dataframe\">\n",
       "  <thead>\n",
       "    <tr style=\"text-align: right;\">\n",
       "      <th></th>\n",
       "      <th>text</th>\n",
       "      <th>label</th>\n",
       "    </tr>\n",
       "  </thead>\n",
       "  <tbody>\n",
       "    <tr>\n",
       "      <th>0</th>\n",
       "      <td>HR ADMINISTRATOR/MARKETING ASSOCIATE\\...</td>\n",
       "      <td>HR</td>\n",
       "    </tr>\n",
       "    <tr>\n",
       "      <th>1</th>\n",
       "      <td>HR SPECIALIST, US HR OPERATIONS      ...</td>\n",
       "      <td>HR</td>\n",
       "    </tr>\n",
       "    <tr>\n",
       "      <th>2</th>\n",
       "      <td>HR DIRECTOR       Summary      Over 2...</td>\n",
       "      <td>HR</td>\n",
       "    </tr>\n",
       "    <tr>\n",
       "      <th>3</th>\n",
       "      <td>HR SPECIALIST       Summary    Dedica...</td>\n",
       "      <td>HR</td>\n",
       "    </tr>\n",
       "    <tr>\n",
       "      <th>4</th>\n",
       "      <td>HR MANAGER         Skill Highlights  ...</td>\n",
       "      <td>HR</td>\n",
       "    </tr>\n",
       "  </tbody>\n",
       "</table>\n",
       "</div>"
      ],
      "text/plain": [
       "                                                text label\n",
       "0           HR ADMINISTRATOR/MARKETING ASSOCIATE\\...    HR\n",
       "1           HR SPECIALIST, US HR OPERATIONS      ...    HR\n",
       "2           HR DIRECTOR       Summary      Over 2...    HR\n",
       "3           HR SPECIALIST       Summary    Dedica...    HR\n",
       "4           HR MANAGER         Skill Highlights  ...    HR"
      ]
     },
     "execution_count": 13,
     "metadata": {},
     "output_type": "execute_result"
    }
   ],
   "source": [
    "# Remove Resume_html and ID\n",
    "df.drop(['Resume_html', 'ID'], axis=1, inplace=True)\n",
    "df.columns = ['text', 'label']\n",
    "\n",
    "df.head()"
   ]
  },
  {
   "cell_type": "code",
   "execution_count": 14,
   "metadata": {},
   "outputs": [
    {
     "data": {
      "text/html": [
       "<div>\n",
       "<style scoped>\n",
       "    .dataframe tbody tr th:only-of-type {\n",
       "        vertical-align: middle;\n",
       "    }\n",
       "\n",
       "    .dataframe tbody tr th {\n",
       "        vertical-align: top;\n",
       "    }\n",
       "\n",
       "    .dataframe thead th {\n",
       "        text-align: right;\n",
       "    }\n",
       "</style>\n",
       "<table border=\"1\" class=\"dataframe\">\n",
       "  <thead>\n",
       "    <tr style=\"text-align: right;\">\n",
       "      <th></th>\n",
       "      <th>text</th>\n",
       "      <th>label</th>\n",
       "    </tr>\n",
       "  </thead>\n",
       "  <tbody>\n",
       "    <tr>\n",
       "      <th>0</th>\n",
       "      <td>hr administrator/marketing associate hr admin...</td>\n",
       "      <td>HR</td>\n",
       "    </tr>\n",
       "    <tr>\n",
       "      <th>1</th>\n",
       "      <td>hr specialist, us hr operations summary versa...</td>\n",
       "      <td>HR</td>\n",
       "    </tr>\n",
       "    <tr>\n",
       "      <th>2</th>\n",
       "      <td>hr director summary over 20 years experience ...</td>\n",
       "      <td>HR</td>\n",
       "    </tr>\n",
       "    <tr>\n",
       "      <th>3</th>\n",
       "      <td>hr specialist summary dedicated, driven, and ...</td>\n",
       "      <td>HR</td>\n",
       "    </tr>\n",
       "    <tr>\n",
       "      <th>4</th>\n",
       "      <td>hr manager skill highlights hr skills hr depa...</td>\n",
       "      <td>HR</td>\n",
       "    </tr>\n",
       "  </tbody>\n",
       "</table>\n",
       "</div>"
      ],
      "text/plain": [
       "                                                text label\n",
       "0   hr administrator/marketing associate hr admin...    HR\n",
       "1   hr specialist, us hr operations summary versa...    HR\n",
       "2   hr director summary over 20 years experience ...    HR\n",
       "3   hr specialist summary dedicated, driven, and ...    HR\n",
       "4   hr manager skill highlights hr skills hr depa...    HR"
      ]
     },
     "execution_count": 14,
     "metadata": {},
     "output_type": "execute_result"
    }
   ],
   "source": [
    "# Clean text\n",
    "df['text'] = [re.sub('</?([a-z]+)>', ' ', x) for x in df['text']] \n",
    "df['text'] = [re.sub('<[^>]*>', '', x) for x in df['text']] \n",
    "df['text'] = [re.sub('\\s+', ' ', x) for x in df['text']] \n",
    "df['text'] = [x.lower() for x in df['text']] # lowercase\n",
    "\n",
    "df.head()"
   ]
  },
  {
   "cell_type": "code",
   "execution_count": 5,
   "metadata": {},
   "outputs": [],
   "source": [
    "# Define X and y\n",
    "X = df['text']\n",
    "y = df['label']"
   ]
  },
  {
   "cell_type": "code",
   "execution_count": 6,
   "metadata": {},
   "outputs": [],
   "source": [
    "# Create a RandomizedSearchCV function to find the best parameters/hyperparameters tuning\n",
    "def RandomizedSearchCV_function(regressor, parameters, tune=True, X_train=None, y_train=None):\n",
    "    start_time = time.time()\n",
    "    # Define column transformer and pipeline\n",
    "    pipeline = Pipeline([\n",
    "        ('vect', TfidfVectorizer(analyzer='word',strip_accents=None, encoding='utf-8',preprocessor=None,ngram_range=(1, 2),token_pattern=r'(?u)\\b\\w[\\w-]*\\w\\b|\\b\\w+\\b', stop_words='english')),\n",
    "        ('clf', regressor)\n",
    "    ])\n",
    "\n",
    "    # Create a randomized search cross validation and no verbose\n",
    "    if tune:\n",
    "        random_search = HalvingRandomSearchCV(pipeline, parameters, scoring='f1_weighted', n_jobs=-1, random_state=2022, verbose=0, factor=4, max_resources=1987, min_resources=1987//4)\n",
    "        random_search.fit(X_train, y_train)\n",
    "        best_model = random_search.best_estimator_\n",
    "        print('Best score for {}: {}'.format(regressor.__class__.__name__, random_search.best_score_))\n",
    "        print('Best parameters: {}'.format(random_search.best_params_))\n",
    "    else:\n",
    "        best_model = pipeline.fit(X_train, y_train)\n",
    "        print('Score: {}: {}'.format(regressor.__class__.__name__, best_model.score(X_train, y_train)))\n",
    "        print('Parameters: {}'.format({k: v for k, v in best_model.get_params().items() if k in parameters}))\n",
    "        \n",
    "    print('Time taken: {:.2f} seconds'.format(time.time() - start_time))\n",
    "    print('='*50)\n",
    "    return best_model[:2]\n",
    "\n",
    "# Create a custom function to show performance and importance of features\n",
    "def show_performance(model_name, model, mode=\"full\", X_test=None, y_test=None):\n",
    "    # Predict the test set\n",
    "    y_pred = model.predict(X_test)\n",
    "\n",
    "    # Show scores\n",
    "    precision = precision_score(y_test, y_pred, average='weighted')\n",
    "    recall = recall_score(y_test, y_pred, average='weighted')\n",
    "    f1 = f1_score(y_test, y_pred, average='weighted')\n",
    "    print('Model: {}'.format(model_name))\n",
    "    print('Precision score: {:.2f}'.format(precision))\n",
    "    print('Recall score: {:.2f}'.format(recall))\n",
    "    print('F1 score: {:.2f}'.format(f1))\n",
    "\n",
    "    # Full mmode\n",
    "    if mode == \"full\":\n",
    "        print('Classification report of {} is:'.format(model_name))\n",
    "        print(classification_report(y_test, y_pred))\n",
    "        plt.figure(figsize=(10, 10))\n",
    "        sns.heatmap(confusion_matrix(y_test, y_pred), annot=True, fmt='d', linewidths=.5, square=True, cmap='Blues_r')\n",
    "        plt.ylabel('Actual label')\n",
    "        plt.xlabel('Predicted label')\n",
    "        all_sample_title = 'Accuracy Score: {:.2f}'.format(accuracy_score(y_test, y_pred))\n",
    "        plt.title(all_sample_title, size=15)\n",
    "        plt.show()\n",
    "        # ROC AUC score if model has predict_proba method\n",
    "        if hasattr(model, 'predict_proba'):\n",
    "            print('ROC AUC score: {:.2f}'.format(roc_auc_score(y_test, model.predict_proba(X_test), multi_class='ovr')))\n",
    "        else:\n",
    "            confidence = model.decision_function(X_test)\n",
    "            confidence = confidence / np.sum(confidence, axis=1, keepdims=True)\n",
    "            roc_auc_score(y_test, confidence, multi_class='ovr')\n",
    "\n",
    "        # Get the feature importance\n",
    "        if hasattr(model, 'final_estimator_'):\n",
    "            feature_importance = model.final_estimator_.coef_\n",
    "            models = model.named_estimators_\n",
    "            classes = model.classes_\n",
    "            importance = pd.DataFrame(feature_importance, index=classes)\n",
    "            return importance\n",
    "        elif hasattr(model.steps[1][1], 'coef_'):\n",
    "            feature_importance = model.steps[1][1].coef_\n",
    "        elif hasattr(model.steps[1][1], 'feature_importances_'):\n",
    "            feature_importance = model.steps[1][1].feature_importances_\n",
    "\n",
    "        # Normalize the importance to 2dp\n",
    "        try:\n",
    "            feature_importance = 100.0 * (feature_importance / feature_importance.max())\n",
    "            importance = pd.DataFrame({'importance_'+model_name: feature_importance[0]}, index=model.steps[0][1].get_feature_names())\n",
    "            importance = importance.sort_values('importance_'+model_name, ascending=False)\n",
    "            # Show the feature importance dataframe\n",
    "            print('Feature importance of {} is:'.format(model_name))\n",
    "            print(importance)\n",
    "        except:\n",
    "            print('No feature importance for {}'.format(model_name))\n",
    "    print('='*50)\n",
    "    \n",
    "    return model_name, precision, recall, f1\n",
    "\n",
    "\n",
    "def bulk_train(X_train=None, y_train=None):\n",
    "    best_log = [\"LogisticRegression\",RandomizedSearchCV_function(LogisticRegression(), {'clf__C': (0.01, 0.1, 1, 10, 100),'clf__penalty': ('l1', 'l2'),'clf__solver': ('liblinear', 'saga')}, tune=True, X_train=X_train, y_train=y_train)]\n",
    "    best_sgd = [\"SGDClassifier\",RandomizedSearchCV_function(SGDClassifier(), {'clf__alpha': (0.0001, 0.0005, 0.00001),'clf__penalty': ('l1', 'l2',), 'clf__n_jobs': (-1,), 'clf__n_iter_no_change': (5, 10, 15, 20)}, tune=True, X_train=X_train, y_train=y_train)]\n",
    "    best_et = [\"ExtraTreesClassifier\",RandomizedSearchCV_function(ExtraTreesClassifier(), {'clf__n_estimators': np.arange(10,30), 'clf__bootstrap': (True, False), 'clf__n_jobs': (-1,), 'clf__max_features': (None,), 'clf__min_samples_split': (2,), 'clf__min_samples_leaf': (2, 3)}, tune=True, X_train=X_train, y_train=y_train)]\n",
    "    best_xgb = [\"XGBClassifier\",RandomizedSearchCV_function(xgb.XGBClassifier(), {'clf__n_estimators': np.arange(10,30), 'clf__learning_rate': np.arange(0.1,0.2), 'clf__n_jobs': (-1,), 'clf__lambda': np.arange(0.5,1,0.1), 'clf__alpha': np.arange(0.5,1,0.1)}, tune=True, X_train=X_train, y_train=y_train)]\n",
    "    best_lgbm = [\"LGBMClassifier\",RandomizedSearchCV_function(LGBMClassifier(), {'clf__verbose': (-1,), 'clf__n_jobs': (-1,), 'clf__reg_alpha': np.arange(0.1,1,0.1), 'clf__reg_lambda': np.arange(0.1,1,0.1), 'clf__max_depth': (-1,), 'clf__silent': (True,), 'clf__force_col_wise': (True,), 'clf__metric': ('multi_logloss',), 'clf__objective': ('multiclass',)}, tune=True, X_train=X_train, y_train=y_train)]\n",
    "\n",
    "    best_models = [best_log, best_sgd, best_et, best_xgb, best_lgbm]\n",
    "    return best_models"
   ]
  },
  {
   "cell_type": "markdown",
   "metadata": {},
   "source": [
    "# All Models"
   ]
  },
  {
   "cell_type": "code",
   "execution_count": 7,
   "metadata": {},
   "outputs": [
    {
     "name": "stdout",
     "output_type": "stream",
     "text": [
      "Best score for LogisticRegression: 0.7727985243121244\n",
      "Best parameters: {'clf__solver': 'liblinear', 'clf__penalty': 'l1', 'clf__C': 10}\n",
      "Time taken: 73.29 seconds\n",
      "==================================================\n",
      "Best score for SGDClassifier: 0.7621431213314811\n",
      "Best parameters: {'clf__penalty': 'l1', 'clf__n_jobs': -1, 'clf__n_iter_no_change': 10, 'clf__alpha': 0.0001}\n",
      "Time taken: 19.94 seconds\n",
      "==================================================\n",
      "Best score for ExtraTreesClassifier: 0.7371890639276202\n",
      "Best parameters: {'clf__n_jobs': -1, 'clf__n_estimators': 24, 'clf__min_samples_split': 2, 'clf__min_samples_leaf': 3, 'clf__max_features': None, 'clf__bootstrap': True}\n",
      "Time taken: 62.14 seconds\n",
      "==================================================\n",
      "Best score for XGBClassifier: 0.7299486508326695\n",
      "Best parameters: {'clf__n_jobs': -1, 'clf__n_estimators': 22, 'clf__learning_rate': 0.1, 'clf__lambda': 0.5, 'clf__alpha': 0.6}\n",
      "Time taken: 138.73 seconds\n",
      "==================================================\n",
      "Best score for LGBMClassifier: 0.7699767092479186\n",
      "Best parameters: {'clf__verbose': -1, 'clf__silent': True, 'clf__reg_lambda': 0.4, 'clf__reg_alpha': 0.1, 'clf__objective': 'multiclass', 'clf__n_jobs': -1, 'clf__metric': 'multi_logloss', 'clf__max_depth': -1, 'clf__force_col_wise': True}\n",
      "Time taken: 65.20 seconds\n",
      "==================================================\n"
     ]
    }
   ],
   "source": [
    "# Split data into train and test\n",
    "X_train, X_test, y_train, y_test = train_test_split(X, y, test_size=0.2, random_state=2022, stratify=y)\n",
    "\n",
    "best_models = bulk_train(X_train=X_train, y_train=y_train)"
   ]
  },
  {
   "cell_type": "code",
   "execution_count": 8,
   "metadata": {},
   "outputs": [
    {
     "name": "stdout",
     "output_type": "stream",
     "text": [
      "Model: LogisticRegression\n",
      "Precision score: 0.80\n",
      "Recall score: 0.80\n",
      "F1 score: 0.79\n",
      "==================================================\n",
      "Model: SGDClassifier\n",
      "Precision score: 0.81\n",
      "Recall score: 0.81\n",
      "F1 score: 0.80\n",
      "==================================================\n",
      "Model: ExtraTreesClassifier\n",
      "Precision score: 0.75\n",
      "Recall score: 0.75\n",
      "F1 score: 0.74\n",
      "==================================================\n",
      "Model: XGBClassifier\n",
      "Precision score: 0.75\n",
      "Recall score: 0.75\n",
      "F1 score: 0.74\n",
      "==================================================\n",
      "Model: LGBMClassifier\n",
      "Precision score: 0.78\n",
      "Recall score: 0.80\n",
      "F1 score: 0.79\n",
      "==================================================\n"
     ]
    },
    {
     "data": {
      "text/html": [
       "<div>\n",
       "<style scoped>\n",
       "    .dataframe tbody tr th:only-of-type {\n",
       "        vertical-align: middle;\n",
       "    }\n",
       "\n",
       "    .dataframe tbody tr th {\n",
       "        vertical-align: top;\n",
       "    }\n",
       "\n",
       "    .dataframe thead th {\n",
       "        text-align: right;\n",
       "    }\n",
       "</style>\n",
       "<table border=\"1\" class=\"dataframe\">\n",
       "  <thead>\n",
       "    <tr style=\"text-align: right;\">\n",
       "      <th></th>\n",
       "      <th>Model</th>\n",
       "      <th>Precision</th>\n",
       "      <th>Recall</th>\n",
       "      <th>F1</th>\n",
       "    </tr>\n",
       "  </thead>\n",
       "  <tbody>\n",
       "    <tr>\n",
       "      <th>1</th>\n",
       "      <td>SGDClassifier</td>\n",
       "      <td>0.814063</td>\n",
       "      <td>0.810865</td>\n",
       "      <td>0.804742</td>\n",
       "    </tr>\n",
       "    <tr>\n",
       "      <th>0</th>\n",
       "      <td>LogisticRegression</td>\n",
       "      <td>0.800068</td>\n",
       "      <td>0.798793</td>\n",
       "      <td>0.794821</td>\n",
       "    </tr>\n",
       "    <tr>\n",
       "      <th>4</th>\n",
       "      <td>LGBMClassifier</td>\n",
       "      <td>0.783208</td>\n",
       "      <td>0.796781</td>\n",
       "      <td>0.786651</td>\n",
       "    </tr>\n",
       "    <tr>\n",
       "      <th>3</th>\n",
       "      <td>XGBClassifier</td>\n",
       "      <td>0.751918</td>\n",
       "      <td>0.746479</td>\n",
       "      <td>0.743356</td>\n",
       "    </tr>\n",
       "    <tr>\n",
       "      <th>2</th>\n",
       "      <td>ExtraTreesClassifier</td>\n",
       "      <td>0.751070</td>\n",
       "      <td>0.750503</td>\n",
       "      <td>0.735126</td>\n",
       "    </tr>\n",
       "  </tbody>\n",
       "</table>\n",
       "</div>"
      ],
      "text/plain": [
       "                  Model  Precision    Recall        F1\n",
       "1         SGDClassifier   0.814063  0.810865  0.804742\n",
       "0    LogisticRegression   0.800068  0.798793  0.794821\n",
       "4        LGBMClassifier   0.783208  0.796781  0.786651\n",
       "3         XGBClassifier   0.751918  0.746479  0.743356\n",
       "2  ExtraTreesClassifier   0.751070  0.750503  0.735126"
      ]
     },
     "execution_count": 8,
     "metadata": {},
     "output_type": "execute_result"
    }
   ],
   "source": [
    "# Create a dataframe to show the performance of the models\n",
    "performance = [show_performance(*model, mode='lite', X_test=X_test, y_test=y_test) for model in best_models]\n",
    "df_performance = pd.DataFrame(performance, columns=['Model', 'Precision', 'Recall', 'F1'])\n",
    "df_performance.sort_values('F1', ascending=False)"
   ]
  },
  {
   "cell_type": "markdown",
   "metadata": {},
   "source": [
    "# Stacking Classifier"
   ]
  },
  {
   "cell_type": "code",
   "execution_count": 9,
   "metadata": {},
   "outputs": [],
   "source": [
    "def stacking(df, best_models, threshold=0.75, X_test=None, y_test=None):\n",
    "    # Create a stacking classifier\n",
    "    stack = StackingClassifier(estimators=[best_models[i] for i in df[df['F1'] >= threshold].index], n_jobs=-1, passthrough=False, verbose=1)\n",
    "    stack.fit(X_train, y_train)\n",
    "\n",
    "    # Show the performance of the stacking classifier\n",
    "    imp_stack = show_performance('StackingClassifier', stack, mode='full', X_test=X_test, y_test=y_test)\n",
    "\n",
    "    # imp_stack columns are the combination of model-class. \n",
    "    # This is a guess, i am not sure if this is the correct way to do it but 168 columns divided by 7 models is 24, which is the number of classes\n",
    "    columns = [m+'-'+ c for m in stack.named_estimators_ for c in stack.classes_]\n",
    "    imp_stack.columns = columns\n",
    "\n",
    "    # Apply MinMaxScaler to the dataframe\n",
    "    imp_minmax = pd.DataFrame(MinMaxScaler().fit_transform(imp_stack), columns=imp_stack.columns, index=imp_stack.index)\n",
    "\n",
    "    # Collapse the dataframe to get the importance of each model\n",
    "    imp_minmax = imp_minmax.sum(axis=0).reset_index()\n",
    "    imp_minmax.columns = ['Model', 'Importance']\n",
    "\n",
    "    # Sum up importance of each model before the dash\n",
    "    imp_minmax['Model'] = imp_minmax['Model'].apply(lambda x: x.split('-')[0])\n",
    "    imp_minmax = imp_minmax.groupby('Model').sum().reset_index()\n",
    "    print(imp_minmax.sort_values('Importance', ascending=False))\n",
    "\n",
    "    return stack, imp_minmax"
   ]
  },
  {
   "cell_type": "code",
   "execution_count": 10,
   "metadata": {},
   "outputs": [
    {
     "ename": "NameError",
     "evalue": "name 'df_performance' is not defined",
     "output_type": "error",
     "traceback": [
      "\u001b[1;31m---------------------------------------------------------------------------\u001b[0m",
      "\u001b[1;31mNameError\u001b[0m                                 Traceback (most recent call last)",
      "\u001b[1;32md:\\GitHub\\ML_Resume\\Backend\\classificationv1.ipynb Cell 13\u001b[0m in \u001b[0;36m<module>\u001b[1;34m\u001b[0m\n\u001b[1;32m----> <a href='vscode-notebook-cell:/d%3A/GitHub/ML_Resume/Backend/classificationv1.ipynb#X15sZmlsZQ%3D%3D?line=0'>1</a>\u001b[0m stack, imp_minmax \u001b[39m=\u001b[39m stacking(df_performance, best_models, \u001b[39m0.75\u001b[39m, X_test\u001b[39m=\u001b[39mX_test, y_test\u001b[39m=\u001b[39my_test)\n",
      "\u001b[1;31mNameError\u001b[0m: name 'df_performance' is not defined"
     ]
    }
   ],
   "source": [
    "stack, imp_minmax = stacking(df_performance, best_models, 0.75, X_test=X_test, y_test=y_test)"
   ]
  },
  {
   "cell_type": "markdown",
   "metadata": {},
   "source": [
    "# Voting Classifier"
   ]
  },
  {
   "cell_type": "code",
   "execution_count": 11,
   "metadata": {},
   "outputs": [],
   "source": [
    "def voting(df, best_models, threshold=0.75, X_test=None, y_test=None):\n",
    "    # Create a Soft Voting Classifier\n",
    "    vote = VotingClassifier(estimators=[best_models[i] for i in df[df['F1'] >= threshold].index], n_jobs=-1, verbose=1)\n",
    "    vote.fit(X_train, y_train)\n",
    "\n",
    "    # Show the performance of the voting classifier\n",
    "    imp_vote = show_performance('VotingClassifier', vote, mode='lite', X_test=X_test, y_test=y_test)\n",
    "\n",
    "    return vote, imp_vote"
   ]
  },
  {
   "cell_type": "code",
   "execution_count": 12,
   "metadata": {},
   "outputs": [
    {
     "name": "stdout",
     "output_type": "stream",
     "text": [
      "Model: VotingClassifier\n",
      "Precision score: 0.82\n",
      "Recall score: 0.82\n",
      "F1 score: 0.82\n",
      "==================================================\n"
     ]
    }
   ],
   "source": [
    "vote, imp_vote = voting(df_performance, best_models, 0.75, X_test=X_test, y_test=y_test)"
   ]
  },
  {
   "cell_type": "markdown",
   "metadata": {},
   "source": [
    "# Repeat for Lemmatized and Stemmed Text"
   ]
  },
  {
   "cell_type": "code",
   "execution_count": 13,
   "metadata": {},
   "outputs": [],
   "source": [
    "# stem the text column into a new column:\n",
    "stemmer = PorterStemmer()\n",
    "df['text_stemmed'] = df['text'].apply(lambda x: ' '.join([stemmer.stem(y) for y in x.split(' ')]))\n",
    "\n",
    "# lemma the text column into a new column:\n",
    "lemmatizer = WordNetLemmatizer()\n",
    "df['text_lemmatized'] = df['text'].apply(lambda x: ' '.join([lemmatizer.lemmatize(y) for y in x.split(' ')]))\n",
    "\n",
    "X_stemmed = df['text_stemmed']\n",
    "X_lemmatized = df['text_lemmatized']"
   ]
  },
  {
   "cell_type": "code",
   "execution_count": 14,
   "metadata": {},
   "outputs": [
    {
     "name": "stdout",
     "output_type": "stream",
     "text": [
      "Best score for LogisticRegression: 0.7479932281598414\n",
      "Best parameters: {'clf__solver': 'liblinear', 'clf__penalty': 'l1', 'clf__C': 10}\n",
      "Time taken: 65.06 seconds\n",
      "==================================================\n",
      "Best score for SGDClassifier: 0.72975074951034\n",
      "Best parameters: {'clf__penalty': 'l1', 'clf__n_jobs': -1, 'clf__n_iter_no_change': 10, 'clf__alpha': 0.0001}\n",
      "Time taken: 18.92 seconds\n",
      "==================================================\n",
      "Best score for ExtraTreesClassifier: 0.7156344751743746\n",
      "Best parameters: {'clf__n_jobs': -1, 'clf__n_estimators': 29, 'clf__min_samples_split': 2, 'clf__min_samples_leaf': 3, 'clf__max_features': None, 'clf__bootstrap': True}\n",
      "Time taken: 66.58 seconds\n",
      "==================================================\n",
      "Best score for XGBClassifier: 0.6979231242506354\n",
      "Best parameters: {'clf__n_jobs': -1, 'clf__n_estimators': 22, 'clf__learning_rate': 0.1, 'clf__lambda': 0.5, 'clf__alpha': 0.6}\n",
      "Time taken: 136.81 seconds\n",
      "==================================================\n",
      "Best score for LGBMClassifier: 0.7494502394917901\n",
      "Best parameters: {'clf__verbose': -1, 'clf__silent': True, 'clf__reg_lambda': 0.7000000000000001, 'clf__reg_alpha': 0.5, 'clf__objective': 'multiclass', 'clf__n_jobs': -1, 'clf__metric': 'multi_logloss', 'clf__max_depth': -1, 'clf__force_col_wise': True}\n",
      "Time taken: 53.91 seconds\n",
      "==================================================\n"
     ]
    }
   ],
   "source": [
    "X_stemmed_train, X_stemmed_test, y_stemmed_train, y_stemmed_test = train_test_split(X_stemmed, y, test_size=0.2, random_state=2022, stratify=y)\n",
    "\n",
    "best_models_2 = bulk_train(X_train=X_stemmed_train, y_train=y_stemmed_train)"
   ]
  },
  {
   "cell_type": "code",
   "execution_count": 15,
   "metadata": {},
   "outputs": [
    {
     "name": "stdout",
     "output_type": "stream",
     "text": [
      "Model: LogisticRegression\n",
      "Precision score: 0.79\n",
      "Recall score: 0.79\n",
      "F1 score: 0.79\n",
      "==================================================\n",
      "Model: SGDClassifier\n",
      "Precision score: 0.78\n",
      "Recall score: 0.78\n",
      "F1 score: 0.77\n",
      "==================================================\n",
      "Model: ExtraTreesClassifier\n",
      "Precision score: 0.76\n",
      "Recall score: 0.77\n",
      "F1 score: 0.76\n",
      "==================================================\n",
      "Model: XGBClassifier\n",
      "Precision score: 0.79\n",
      "Recall score: 0.78\n",
      "F1 score: 0.77\n",
      "==================================================\n",
      "Model: LGBMClassifier\n",
      "Precision score: 0.80\n",
      "Recall score: 0.79\n",
      "F1 score: 0.79\n",
      "==================================================\n"
     ]
    },
    {
     "data": {
      "text/html": [
       "<div>\n",
       "<style scoped>\n",
       "    .dataframe tbody tr th:only-of-type {\n",
       "        vertical-align: middle;\n",
       "    }\n",
       "\n",
       "    .dataframe tbody tr th {\n",
       "        vertical-align: top;\n",
       "    }\n",
       "\n",
       "    .dataframe thead th {\n",
       "        text-align: right;\n",
       "    }\n",
       "</style>\n",
       "<table border=\"1\" class=\"dataframe\">\n",
       "  <thead>\n",
       "    <tr style=\"text-align: right;\">\n",
       "      <th></th>\n",
       "      <th>Model</th>\n",
       "      <th>Precision</th>\n",
       "      <th>Recall</th>\n",
       "      <th>F1</th>\n",
       "    </tr>\n",
       "  </thead>\n",
       "  <tbody>\n",
       "    <tr>\n",
       "      <th>0</th>\n",
       "      <td>LogisticRegression</td>\n",
       "      <td>0.794601</td>\n",
       "      <td>0.794769</td>\n",
       "      <td>0.789837</td>\n",
       "    </tr>\n",
       "    <tr>\n",
       "      <th>4</th>\n",
       "      <td>LGBMClassifier</td>\n",
       "      <td>0.800411</td>\n",
       "      <td>0.794769</td>\n",
       "      <td>0.786282</td>\n",
       "    </tr>\n",
       "    <tr>\n",
       "      <th>3</th>\n",
       "      <td>XGBClassifier</td>\n",
       "      <td>0.788270</td>\n",
       "      <td>0.778672</td>\n",
       "      <td>0.773280</td>\n",
       "    </tr>\n",
       "    <tr>\n",
       "      <th>1</th>\n",
       "      <td>SGDClassifier</td>\n",
       "      <td>0.781279</td>\n",
       "      <td>0.778672</td>\n",
       "      <td>0.771424</td>\n",
       "    </tr>\n",
       "    <tr>\n",
       "      <th>2</th>\n",
       "      <td>ExtraTreesClassifier</td>\n",
       "      <td>0.762004</td>\n",
       "      <td>0.774648</td>\n",
       "      <td>0.760146</td>\n",
       "    </tr>\n",
       "  </tbody>\n",
       "</table>\n",
       "</div>"
      ],
      "text/plain": [
       "                  Model  Precision    Recall        F1\n",
       "0    LogisticRegression   0.794601  0.794769  0.789837\n",
       "4        LGBMClassifier   0.800411  0.794769  0.786282\n",
       "3         XGBClassifier   0.788270  0.778672  0.773280\n",
       "1         SGDClassifier   0.781279  0.778672  0.771424\n",
       "2  ExtraTreesClassifier   0.762004  0.774648  0.760146"
      ]
     },
     "execution_count": 15,
     "metadata": {},
     "output_type": "execute_result"
    }
   ],
   "source": [
    "performance_2 = [show_performance(*model, mode='lite', X_test=X_stemmed_test, y_test=y_stemmed_test) for model in best_models_2]\n",
    "df_performance_2 = pd.DataFrame(performance_2, columns=['Model', 'Precision', 'Recall', 'F1'])\n",
    "df_performance_2.sort_values('F1', ascending=False)"
   ]
  },
  {
   "cell_type": "code",
   "execution_count": 16,
   "metadata": {},
   "outputs": [
    {
     "name": "stdout",
     "output_type": "stream",
     "text": [
      "Model: StackingClassifier\n",
      "Precision score: 0.47\n",
      "Recall score: 0.38\n",
      "F1 score: 0.36\n",
      "Classification report of StackingClassifier is:\n",
      "                        precision    recall  f1-score   support\n",
      "\n",
      "            ACCOUNTANT       0.67      0.25      0.36        24\n",
      "              ADVOCATE       0.33      0.08      0.13        24\n",
      "           AGRICULTURE       0.25      0.31      0.28        13\n",
      "               APPAREL       0.26      0.79      0.39        19\n",
      "                  ARTS       0.17      0.14      0.15        21\n",
      "            AUTOMOBILE       0.00      0.00      0.00         7\n",
      "              AVIATION       0.58      0.58      0.58        24\n",
      "               BANKING       0.31      0.74      0.44        23\n",
      "                   BPO       0.50      0.25      0.33         4\n",
      "  BUSINESS-DEVELOPMENT       0.08      0.25      0.12        24\n",
      "                  CHEF       0.83      0.79      0.81        24\n",
      "          CONSTRUCTION       1.00      0.18      0.31        22\n",
      "            CONSULTANT       0.22      0.17      0.20        23\n",
      "              DESIGNER       0.67      0.38      0.48        21\n",
      "         DIGITAL-MEDIA       0.31      0.58      0.41        19\n",
      "           ENGINEERING       0.40      0.17      0.24        24\n",
      "               FINANCE       0.75      0.25      0.38        24\n",
      "               FITNESS       0.75      0.26      0.39        23\n",
      "            HEALTHCARE       0.21      0.13      0.16        23\n",
      "                    HR       0.70      0.86      0.78        22\n",
      "INFORMATION-TECHNOLOGY       0.33      0.04      0.07        24\n",
      "      PUBLIC-RELATIONS       0.76      0.73      0.74        22\n",
      "                 SALES       0.33      0.09      0.14        23\n",
      "               TEACHER       0.43      0.95      0.59        20\n",
      "\n",
      "              accuracy                           0.38       497\n",
      "             macro avg       0.45      0.37      0.35       497\n",
      "          weighted avg       0.47      0.38      0.36       497\n",
      "\n"
     ]
    },
    {
     "data": {
      "image/png": "[encoded data removed]",
      "text/plain": [
       "<Figure size 720x720 with 2 Axes>"
      ]
     },
     "metadata": {
      "needs_background": "light"
     },
     "output_type": "display_data"
    },
    {
     "name": "stdout",
     "output_type": "stream",
     "text": [
      "ROC AUC score: 0.81\n",
      "                Model  Importance\n",
      "2       XGBClassifier  114.053817\n",
      "0      LGBMClassifier  104.773226\n",
      "1  LogisticRegression   96.232590\n"
     ]
    }
   ],
   "source": [
    "stack_2, imp_minmax_2 = stacking(df_performance_2, best_models_2, 0.773, X_test=X_stemmed_test, y_test=y_stemmed_test)"
   ]
  },
  {
   "cell_type": "code",
   "execution_count": 17,
   "metadata": {},
   "outputs": [
    {
     "name": "stdout",
     "output_type": "stream",
     "text": [
      "Model: VotingClassifier\n",
      "Precision score: 0.45\n",
      "Recall score: 0.38\n",
      "F1 score: 0.36\n",
      "==================================================\n"
     ]
    }
   ],
   "source": [
    "vote_2, imp_vote_2 = voting(df_performance_2, best_models_2, 0.773, X_test=X_stemmed_test, y_test=y_stemmed_test)"
   ]
  },
  {
   "cell_type": "code",
   "execution_count": 18,
   "metadata": {},
   "outputs": [
    {
     "name": "stdout",
     "output_type": "stream",
     "text": [
      "Best score for LogisticRegression: 0.761641529106005\n",
      "Best parameters: {'clf__solver': 'liblinear', 'clf__penalty': 'l1', 'clf__C': 10}\n",
      "Time taken: 70.06 seconds\n",
      "==================================================\n",
      "Best score for SGDClassifier: 0.7499165074439308\n",
      "Best parameters: {'clf__penalty': 'l1', 'clf__n_jobs': -1, 'clf__n_iter_no_change': 10, 'clf__alpha': 0.0001}\n",
      "Time taken: 19.21 seconds\n",
      "==================================================\n",
      "Best score for ExtraTreesClassifier: 0.7313940877598685\n",
      "Best parameters: {'clf__n_jobs': -1, 'clf__n_estimators': 24, 'clf__min_samples_split': 2, 'clf__min_samples_leaf': 3, 'clf__max_features': None, 'clf__bootstrap': True}\n",
      "Time taken: 58.06 seconds\n",
      "==================================================\n",
      "Best score for XGBClassifier: 0.7111223244244078\n",
      "Best parameters: {'clf__n_jobs': -1, 'clf__n_estimators': 10, 'clf__learning_rate': 0.1, 'clf__lambda': 0.6, 'clf__alpha': 0.7}\n",
      "Time taken: 80.05 seconds\n",
      "==================================================\n",
      "Best score for LGBMClassifier: 0.7604983556981553\n",
      "Best parameters: {'clf__verbose': -1, 'clf__silent': True, 'clf__reg_lambda': 0.9, 'clf__reg_alpha': 0.5, 'clf__objective': 'multiclass', 'clf__n_jobs': -1, 'clf__metric': 'multi_logloss', 'clf__max_depth': -1, 'clf__force_col_wise': True}\n",
      "Time taken: 55.45 seconds\n",
      "==================================================\n"
     ]
    }
   ],
   "source": [
    "X_lemmatized_train, X_lemmatized_test, y_lemmatized_train, y_lemmatized_test = train_test_split(X_lemmatized, y, test_size=0.2, random_state=2022, stratify=y)\n",
    "\n",
    "best_models_3 = bulk_train(X_train=X_lemmatized_train, y_train=y_lemmatized_train)"
   ]
  },
  {
   "cell_type": "code",
   "execution_count": 19,
   "metadata": {},
   "outputs": [
    {
     "name": "stdout",
     "output_type": "stream",
     "text": [
      "Model: LogisticRegression\n",
      "Precision score: 0.81\n",
      "Recall score: 0.81\n",
      "F1 score: 0.81\n",
      "==================================================\n",
      "Model: SGDClassifier\n",
      "Precision score: 0.81\n",
      "Recall score: 0.80\n",
      "F1 score: 0.80\n",
      "==================================================\n",
      "Model: ExtraTreesClassifier\n",
      "Precision score: 0.74\n",
      "Recall score: 0.75\n",
      "F1 score: 0.73\n",
      "==================================================\n",
      "Model: XGBClassifier\n",
      "Precision score: 0.75\n",
      "Recall score: 0.74\n",
      "F1 score: 0.73\n",
      "==================================================\n",
      "Model: LGBMClassifier\n",
      "Precision score: 0.80\n",
      "Recall score: 0.80\n",
      "F1 score: 0.79\n",
      "==================================================\n"
     ]
    },
    {
     "data": {
      "text/html": [
       "<div>\n",
       "<style scoped>\n",
       "    .dataframe tbody tr th:only-of-type {\n",
       "        vertical-align: middle;\n",
       "    }\n",
       "\n",
       "    .dataframe tbody tr th {\n",
       "        vertical-align: top;\n",
       "    }\n",
       "\n",
       "    .dataframe thead th {\n",
       "        text-align: right;\n",
       "    }\n",
       "</style>\n",
       "<table border=\"1\" class=\"dataframe\">\n",
       "  <thead>\n",
       "    <tr style=\"text-align: right;\">\n",
       "      <th></th>\n",
       "      <th>Model</th>\n",
       "      <th>Precision</th>\n",
       "      <th>Recall</th>\n",
       "      <th>F1</th>\n",
       "    </tr>\n",
       "  </thead>\n",
       "  <tbody>\n",
       "    <tr>\n",
       "      <th>0</th>\n",
       "      <td>LogisticRegression</td>\n",
       "      <td>0.808007</td>\n",
       "      <td>0.808853</td>\n",
       "      <td>0.805413</td>\n",
       "    </tr>\n",
       "    <tr>\n",
       "      <th>1</th>\n",
       "      <td>SGDClassifier</td>\n",
       "      <td>0.805387</td>\n",
       "      <td>0.804829</td>\n",
       "      <td>0.796668</td>\n",
       "    </tr>\n",
       "    <tr>\n",
       "      <th>4</th>\n",
       "      <td>LGBMClassifier</td>\n",
       "      <td>0.802353</td>\n",
       "      <td>0.798793</td>\n",
       "      <td>0.791855</td>\n",
       "    </tr>\n",
       "    <tr>\n",
       "      <th>3</th>\n",
       "      <td>XGBClassifier</td>\n",
       "      <td>0.745921</td>\n",
       "      <td>0.738431</td>\n",
       "      <td>0.734100</td>\n",
       "    </tr>\n",
       "    <tr>\n",
       "      <th>2</th>\n",
       "      <td>ExtraTreesClassifier</td>\n",
       "      <td>0.735303</td>\n",
       "      <td>0.750503</td>\n",
       "      <td>0.733504</td>\n",
       "    </tr>\n",
       "  </tbody>\n",
       "</table>\n",
       "</div>"
      ],
      "text/plain": [
       "                  Model  Precision    Recall        F1\n",
       "0    LogisticRegression   0.808007  0.808853  0.805413\n",
       "1         SGDClassifier   0.805387  0.804829  0.796668\n",
       "4        LGBMClassifier   0.802353  0.798793  0.791855\n",
       "3         XGBClassifier   0.745921  0.738431  0.734100\n",
       "2  ExtraTreesClassifier   0.735303  0.750503  0.733504"
      ]
     },
     "execution_count": 19,
     "metadata": {},
     "output_type": "execute_result"
    }
   ],
   "source": [
    "performance_3 = [show_performance(*model, mode='lite', X_test=X_lemmatized_test, y_test=y_lemmatized_test) for model in best_models_3]\n",
    "df_performance_3 = pd.DataFrame(performance_3, columns=['Model', 'Precision', 'Recall', 'F1'])\n",
    "df_performance_3.sort_values('F1', ascending=False)"
   ]
  },
  {
   "cell_type": "code",
   "execution_count": 20,
   "metadata": {},
   "outputs": [
    {
     "name": "stdout",
     "output_type": "stream",
     "text": [
      "Model: StackingClassifier\n",
      "Precision score: 0.73\n",
      "Recall score: 0.76\n",
      "F1 score: 0.73\n",
      "Classification report of StackingClassifier is:\n",
      "                        precision    recall  f1-score   support\n",
      "\n",
      "            ACCOUNTANT       0.95      0.83      0.89        24\n",
      "              ADVOCATE       0.71      0.83      0.77        24\n",
      "           AGRICULTURE       0.35      0.46      0.40        13\n",
      "               APPAREL       0.52      0.68      0.59        19\n",
      "                  ARTS       0.44      0.19      0.27        21\n",
      "            AUTOMOBILE       0.00      0.00      0.00         7\n",
      "              AVIATION       0.88      0.88      0.88        24\n",
      "               BANKING       0.71      0.74      0.72        23\n",
      "                   BPO       1.00      0.25      0.40         4\n",
      "  BUSINESS-DEVELOPMENT       0.84      0.88      0.86        24\n",
      "                  CHEF       0.95      0.79      0.86        24\n",
      "          CONSTRUCTION       0.88      1.00      0.94        22\n",
      "            CONSULTANT       0.68      0.91      0.78        23\n",
      "              DESIGNER       0.91      0.95      0.93        21\n",
      "         DIGITAL-MEDIA       0.81      0.68      0.74        19\n",
      "           ENGINEERING       0.76      0.92      0.83        24\n",
      "               FINANCE       0.82      0.96      0.88        24\n",
      "               FITNESS       0.83      0.83      0.83        23\n",
      "            HEALTHCARE       0.67      0.78      0.72        23\n",
      "                    HR       0.82      0.82      0.82        22\n",
      "INFORMATION-TECHNOLOGY       0.88      0.96      0.92        24\n",
      "      PUBLIC-RELATIONS       0.90      0.82      0.86        22\n",
      "                 SALES       0.00      0.00      0.00        23\n",
      "               TEACHER       0.61      0.85      0.71        20\n",
      "\n",
      "              accuracy                           0.76       497\n",
      "             macro avg       0.70      0.71      0.69       497\n",
      "          weighted avg       0.73      0.76      0.73       497\n",
      "\n"
     ]
    },
    {
     "data": {
      "image/png": "[encoded data removed]",
      "text/plain": [
       "<Figure size 720x720 with 2 Axes>"
      ]
     },
     "metadata": {
      "needs_background": "light"
     },
     "output_type": "display_data"
    },
    {
     "name": "stdout",
     "output_type": "stream",
     "text": [
      "ROC AUC score: 0.96\n",
      "                Model  Importance\n",
      "2       SGDClassifier  216.002444\n",
      "1  LogisticRegression  158.217473\n",
      "0      LGBMClassifier  120.455428\n"
     ]
    }
   ],
   "source": [
    "stack_3, imp_minmax_3 = stacking(df_performance_3, best_models_3, 0.79, X_test=X_lemmatized_test, y_test=y_lemmatized_test)"
   ]
  },
  {
   "cell_type": "code",
   "execution_count": 21,
   "metadata": {},
   "outputs": [
    {
     "name": "stdout",
     "output_type": "stream",
     "text": [
      "Model: VotingClassifier\n",
      "Precision score: 0.77\n",
      "Recall score: 0.77\n",
      "F1 score: 0.74\n",
      "==================================================\n"
     ]
    }
   ],
   "source": [
    "vote_3, imp_vote_3 = voting(df_performance_3, best_models_3, 0.79, X_test=X_lemmatized_test, y_test=y_lemmatized_test)"
   ]
  },
  {
   "cell_type": "code",
   "execution_count": 22,
   "metadata": {},
   "outputs": [],
   "source": [
    "# # Load the model\n",
    "# import mgzip\n",
    "# stack = merge_pickle('stack')\n",
    "# vote = merge_pickle('vote')"
   ]
  },
  {
   "cell_type": "code",
   "execution_count": 23,
   "metadata": {},
   "outputs": [],
   "source": [
    "# # Save the model\n",
    "# pickle_split('stack', stack)\n",
    "# pickle_split('vote', vote)"
   ]
  },
  {
   "cell_type": "markdown",
   "metadata": {},
   "source": [
    "# Store Raw Stacking Classifier "
   ]
  },
  {
   "cell_type": "code",
   "execution_count": 5,
   "metadata": {},
   "outputs": [],
   "source": [
    "# Load stack.mgz shortcut if you already merged beforehand\n",
    "import pickle, os, pandas as pd\n",
    "from sklearn.preprocessing import MinMaxScaler\n",
    "cwd = os.getcwd()\n",
    "stack = pickle.load(open(cwd + '/stack.mgz', 'rb'))\n",
    "\n",
    "feature_importance = stack.final_estimator_.coef_\n",
    "classes = stack.classes_\n",
    "named_estimators = stack.named_estimators_\n",
    "\n",
    "importance = pd.DataFrame(feature_importance, index=classes)\n",
    "columns = [m+'-'+ c for m in named_estimators for c in classes]\n",
    "importance.columns = columns\n",
    "\n",
    "# Apply MinMaxScaler to the dataframe\n",
    "imp_minmax = pd.DataFrame(MinMaxScaler().fit_transform(importance), columns=importance.columns, index=importance.index)\n",
    "\n",
    "# Collapse the dataframe to get the importance of each model\n",
    "imp_minmax = imp_minmax.sum(axis=0).reset_index()\n",
    "imp_minmax.columns = ['Model', 'Importance']\n",
    "\n",
    "# Sum up importance of each model before the dash\n",
    "imp_minmax['Model'] = imp_minmax['Model'].apply(lambda x: x.split('-')[0])\n",
    "imp_minmax = imp_minmax.groupby('Model').sum().reset_index()\n",
    "imp_minmax.sort_values('Importance', ascending=False)\n",
    "\n",
    "# Normalise importance\n",
    "imp_minmax['Importance'] = imp_minmax['Importance'].apply(lambda x: x/imp_minmax['Importance'].sum())\n",
    "\n",
    "# Save the dataframe\n",
    "imp_minmax.to_csv('imp_minmax.csv', index=False)"
   ]
  },
  {
   "cell_type": "markdown",
   "metadata": {},
   "source": [
    "# Combining Feature Importances\n",
    "We dont have a one-vs-all approach for trees, can't seem to combine it with the stacking classifier [Suggest we just remove tree models]"
   ]
  },
  {
   "cell_type": "code",
   "execution_count": 7,
   "metadata": {},
   "outputs": [
    {
     "name": "stdout",
     "output_type": "stream",
     "text": [
      "LogisticRegression\n",
      "SGDClassifier\n",
      "LGBMClassifier\n",
      "ACCOUNTANT\n",
      "ADVOCATE\n",
      "AGRICULTURE\n",
      "APPAREL\n",
      "ARTS\n",
      "AUTOMOBILE\n",
      "AVIATION\n",
      "BANKING\n",
      "BPO\n",
      "BUSINESS-DEVELOPMENT\n",
      "CHEF\n",
      "CONSTRUCTION\n",
      "CONSULTANT\n",
      "DESIGNER\n",
      "DIGITAL-MEDIA\n",
      "ENGINEERING\n",
      "FINANCE\n",
      "FITNESS\n",
      "HEALTHCARE\n",
      "HR\n",
      "INFORMATION-TECHNOLOGY\n",
      "PUBLIC-RELATIONS\n",
      "SALES\n",
      "TEACHER\n"
     ]
    }
   ],
   "source": [
    "# What are the features that are most important to the model for each class\n",
    "df_stack = []\n",
    "for name in stack.named_estimators_:\n",
    "    print(name)\n",
    "    # Create a dataframe\n",
    "    if hasattr(stack.named_estimators_[name]['clf'], 'feature_importances_'):\n",
    "        pass\n",
    "    else: \n",
    "        df = pd.DataFrame(stack.named_estimators_[name]['clf'].coef_, columns=stack.named_estimators_[name]['vect'].get_feature_names_out(), index=stack.classes_)\n",
    "        df = df.T\n",
    "        df.columns = stack.classes_\n",
    "        # Multiply the coefficients by the importance of the model from imp_minmax\n",
    "        df = df.mul(imp_minmax[imp_minmax['Model']==name]['Importance'].values[0], axis=0)\n",
    "        # Normalise numbers using minmax scaler\n",
    "        df = pd.DataFrame(MinMaxScaler().fit_transform(df), columns=df.columns, index=df.index)\n",
    "        df_stack.append(df)\n",
    "\n",
    "# Concatenate the dataframes\n",
    "df_stack = pd.concat(df_stack)\n",
    "\n",
    "df_stack_final = []\n",
    "# Get the top 10 features for each class\n",
    "for c in df_stack.columns:\n",
    "    print(c)\n",
    "    df_stack_final.append(df_stack[~df_stack.index.duplicated(keep='first')][c].sort_values(ascending=False).head(10))\n",
    "\n",
    "# Concatenate the dataframes\n",
    "df_stack_final = pd.concat(df_stack_final, axis=1)\n",
    "df_stack_final.to_csv('df_stack.csv')\n",
    "\n",
    "# features = stack.named_estimators_['ExtraTreesClassifier']['clf'].feature_importances_\n",
    "# feature_names = stack.named_estimators_['ExtraTreesClassifier']['vect'].get_feature_names()\n",
    "# df = pd.DataFrame(features, index=feature_names, columns=['Importance'])\n",
    "# df.sort_values('Importance', ascending=False).head(10)"
   ]
  },
  {
   "cell_type": "markdown",
   "metadata": {},
   "source": [
    "# For Team:\n",
    "Wishlist for potential upside:\n",
    "1. Stemming/Lemmatisation DONE\n",
    "2. Generate more features such as length of resume\n",
    "3. Try combining features from trees (currently taking a multi-class approach hence array doesn't separate out to classes) to interpret stacking classifier\n",
    "4. Try soft voting or weighted hard voting\n",
    "5. Highlighting individual resume pdfs on frontend, providing users with insights"
   ]
  }
 ],
 "metadata": {
  "kernelspec": {
   "display_name": "Python 3.10.0 64-bit",
   "language": "python",
   "name": "python3"
  },
  "language_info": {
   "codemirror_mode": {
    "name": "ipython",
    "version": 3
   },
   "file_extension": ".py",
   "mimetype": "text/x-python",
   "name": "python",
   "nbconvert_exporter": "python",
   "pygments_lexer": "ipython3",
   "version": "3.10.0"
  },
  "orig_nbformat": 4,
  "vscode": {
   "interpreter": {
    "hash": "369f2c481f4da34e4445cda3fffd2e751bd1c4d706f27375911949ba6bb62e1c"
   }
  }
 },
 "nbformat": 4,
 "nbformat_minor": 2
}
